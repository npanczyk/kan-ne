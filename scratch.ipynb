{
 "cells": [
  {
   "cell_type": "code",
   "execution_count": 7,
   "metadata": {},
   "outputs": [],
   "source": [
    "import numpy as np\n",
    "import pandas as pd\n",
    "from sklearn.model_selection import train_test_split\n",
    "from sklearn.preprocessing import MinMaxScaler\n",
    "import torch"
   ]
  },
  {
   "cell_type": "code",
   "execution_count": 25,
   "metadata": {},
   "outputs": [
    {
     "name": "stdout",
     "output_type": "stream",
     "text": [
      "(16090, 1)\n"
     ]
    }
   ],
   "source": [
    "train_df = pd.read_csv('datasets/chf_train.csv')\n",
    "test_df = pd.read_csv('datasets/chf_valid.csv')\n",
    "x_train = train_df.iloc[:, [0, 1, 2, 3, 4, 5]].values  # Input columns (1-6) D, L, P, G, T, Xe\n",
    "y_train = train_df.iloc[:, [6]].values  # CHF\n",
    "x_test = test_df.iloc[:, [0, 1, 2, 3, 4, 5]].values  \n",
    "y_test = test_df.iloc[:, [6]].values\n",
    "\n",
    "# Define the Min-Max Scaler\n",
    "scaler_X = MinMaxScaler()\n",
    "scaler_Y = MinMaxScaler()\n",
    "X_train = scaler_X.fit_transform(x_train)\n",
    "X_test = scaler_X.transform(x_test)\n",
    "print(y_train.shape)"
   ]
  },
  {
   "cell_type": "code",
   "execution_count": 26,
   "metadata": {},
   "outputs": [
    {
     "data": {
      "text/plain": [
       "'print( X_test.shape )\\nprint(y_train.shape)\\nprint(y_train.reshape(-1,1).shape)\\nprint(y_train.reshape(-1,1).flatten().shape)\\nprint(y_train.flatten().shape)'"
      ]
     },
     "execution_count": 26,
     "metadata": {},
     "output_type": "execute_result"
    }
   ],
   "source": [
    "'''print( X_test.shape )\n",
    "print(y_train.shape)\n",
    "print(y_train.reshape(-1,1).shape)\n",
    "print(y_train.reshape(-1,1).flatten().shape)\n",
    "print(y_train.flatten().shape)'''"
   ]
  },
  {
   "cell_type": "code",
   "execution_count": 31,
   "metadata": {},
   "outputs": [],
   "source": [
    "Y_train = scaler_Y.fit_transform(y_train)\n",
    "Y_test = scaler_Y.transform(y_test)"
   ]
  },
  {
   "cell_type": "code",
   "execution_count": 32,
   "metadata": {},
   "outputs": [
    {
     "name": "stdout",
     "output_type": "stream",
     "text": [
      "(16090, 1)\n"
     ]
    }
   ],
   "source": [
    "print(Y_train.shape)"
   ]
  },
  {
   "cell_type": "code",
   "execution_count": 39,
   "metadata": {},
   "outputs": [],
   "source": [
    "# Step 5: Convert to Torch Tensors and Create Dataset Format\n",
    "train_input = torch.tensor(X_train, dtype=torch.double)\n",
    "train_label = torch.tensor(Y_train, dtype=torch.double)\n",
    "\n",
    "test_input = torch.tensor(X_test, dtype=torch.double)\n",
    "test_label = torch.tensor(Y_test, dtype=torch.double).unsqueeze(1)"
   ]
  },
  {
   "cell_type": "code",
   "execution_count": 40,
   "metadata": {},
   "outputs": [],
   "source": [
    "train_label.shape\n",
    "dataset = {\n",
    "        'train_input': train_input,\n",
    "        'train_label': train_label,\n",
    "        'test_input': test_input,\n",
    "        'test_label': test_label\n",
    "    }"
   ]
  },
  {
   "cell_type": "code",
   "execution_count": 41,
   "metadata": {},
   "outputs": [
    {
     "name": "stdout",
     "output_type": "stream",
     "text": [
      "torch.Size([16090, 6]) torch.Size([16090, 1])\n",
      "torch.Size([5363, 6]) torch.Size([5363, 1])\n"
     ]
    }
   ],
   "source": [
    "print(dataset['train_input'].shape, dataset['train_label'].shape)\n",
    "print(dataset['test_input'].shape, dataset['test_label'].shape)"
   ]
  },
  {
   "cell_type": "code",
   "execution_count": null,
   "metadata": {},
   "outputs": [],
   "source": []
  }
 ],
 "metadata": {
  "kernelspec": {
   "display_name": "pykan-env",
   "language": "python",
   "name": "python3"
  },
  "language_info": {
   "codemirror_mode": {
    "name": "ipython",
    "version": 3
   },
   "file_extension": ".py",
   "mimetype": "text/x-python",
   "name": "python",
   "nbconvert_exporter": "python",
   "pygments_lexer": "ipython3",
   "version": "3.9.18"
  }
 },
 "nbformat": 4,
 "nbformat_minor": 2
}
